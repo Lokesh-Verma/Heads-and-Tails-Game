{
 "cells": [
  {
   "cell_type": "code",
   "execution_count": 3,
   "metadata": {},
   "outputs": [
    {
     "name": "stdout",
     "output_type": "stream",
     "text": [
      "Choose between \"Heads\" or \"Tails\"\n",
      "Your Chose: Heads\n",
      "Computer: Heads\n",
      "You Won\n"
     ]
    }
   ],
   "source": [
    "import random\n",
    "choose=input('Choose between \"Heads\" or \"Tails\"\\nYour Chose: ')\n",
    "a=random.randint(0,1)\n",
    "if a==0:\n",
    "    print(\"Computer: Heads\")\n",
    "    if a==0 and choose==\"Heads\":\n",
    "        print(\"You Won\")\n",
    "    else:\n",
    "        print(\"You Lose\")\n",
    "if a==1:\n",
    "    print(\"Computer: Tails\")\n",
    "    if a==1 and choose==\"Tails\":\n",
    "        print(\"You Won\")\n",
    "    else:\n",
    "        print(\"You Lose\")"
   ]
  }
 ],
 "metadata": {
  "kernelspec": {
   "display_name": "Python 3",
   "language": "python",
   "name": "python3"
  },
  "language_info": {
   "codemirror_mode": {
    "name": "ipython",
    "version": 3
   },
   "file_extension": ".py",
   "mimetype": "text/x-python",
   "name": "python",
   "nbconvert_exporter": "python",
   "pygments_lexer": "ipython3",
   "version": "3.8.5"
  }
 },
 "nbformat": 4,
 "nbformat_minor": 4
}
